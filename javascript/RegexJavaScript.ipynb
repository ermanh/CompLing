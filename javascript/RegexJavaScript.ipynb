{
 "cells": [
  {
   "cell_type": "markdown",
   "metadata": {
    "collapsed": true
   },
   "source": [
    "# Regular Expressions in JavaScript\n",
    "Herman Leung / 21 July 2017\n",
    "\n",
    "## Table of Contents\n",
    "1. [Basics](#1)\n",
    "2. [Functions](#2)\n",
    "3. [Flags](#3)\n",
    "4. [Character classes](#4)\n",
    "5. [Ranges](#5)\n",
    "6. [Groups](#6)\n",
    "7. [Quantifiers](#7)\n",
    "8. [Anchors](#8)\n",
    "9. [Assertions](#9)\n",
    "10. [References and tools](#10)"
   ]
  },
  {
   "cell_type": "markdown",
   "metadata": {},
   "source": [
    "### 1. Basics -- characters, strings, and escaping with backslash<a name='1'></a>\n"
   ]
  },
  {
   "cell_type": "markdown",
   "metadata": {},
   "source": [
    "Backslash for quotes and apostrophes in string notation"
   ]
  },
  {
   "cell_type": "code",
   "execution_count": null,
   "metadata": {},
   "outputs": [],
   "source": [
    "var text = \"She said, \\\"I'm going to eat six spoons of fresh snow peas.\\\" \";\n",
    "var text2 = 'She said, \"I\\'m going to eat six spoons of fresh snow peas.\" ';\n",
    "\n",
    "text === text2; // true"
   ]
  },
  {
   "cell_type": "markdown",
   "metadata": {},
   "source": [
    "In regex patterns, functional chars may need to be escaped if you want the literal character. These include: . + ? * - [ ] ( ) \\ / ^ $ |"
   ]
  },
  {
   "cell_type": "code",
   "execution_count": null,
   "metadata": {},
   "outputs": [],
   "source": [
    "// cannot be parsed\n",
    "'I (Caesar) came, I saw, I conquered'.search(/(/); "
   ]
  },
  {
   "cell_type": "code",
   "execution_count": null,
   "metadata": {},
   "outputs": [],
   "source": [
    "// need to escape the open parenthesis\n",
    "'I (Caesar) came, I saw, I conquered'.search(/\\(/); // index of match returned"
   ]
  },
  {
   "cell_type": "markdown",
   "metadata": {},
   "source": [
    "The backslash does not affect all chars, however"
   ]
  },
  {
   "cell_type": "code",
   "execution_count": null,
   "metadata": {},
   "outputs": [],
   "source": [
    "'='.search(/=/);"
   ]
  },
  {
   "cell_type": "code",
   "execution_count": null,
   "metadata": {},
   "outputs": [],
   "source": [
    "'='.search(/\\=/);"
   ]
  },
  {
   "cell_type": "markdown",
   "metadata": {},
   "source": [
    "Some chars are always escaped"
   ]
  },
  {
   "cell_type": "code",
   "execution_count": null,
   "metadata": {},
   "outputs": [],
   "source": [
    "console.log('a\\na'); // \\n - new line / line feed (LF)\n",
    "     console.log('=====');\n",
    "console.log('C\\rD'); // \\r - carriage return (CR)\n",
    "     console.log('=====');\n",
    "console.log('1\\t2'); // \\t - tab"
   ]
  },
  {
   "cell_type": "code",
   "execution_count": null,
   "metadata": {},
   "outputs": [],
   "source": [
    "// Hexadecimal and unicode chars\n",
    "console.log('\\xe3');   // \\x + 2 chars /[0-9a-f]/i\n",
    "console.log('\\u8003'); // \\u + 4 chars /[0-9a-f]/i"
   ]
  },
  {
   "cell_type": "code",
   "execution_count": null,
   "metadata": {},
   "outputs": [],
   "source": [
    "// Astrals\n",
    "console.log('\\u{1F4A9}'); // ES6 \\u + up to 6 chars inside curly brackets\n",
    "console.log('\\uD83D\\uDCA9'); // ES5 equivalent\n",
    "// NOTE 1: Astrals are implemented as composed of 2 chars\n",
    "// NOTE 2: There are other composed chars that look like 1 char but are many"
   ]
  },
  {
   "cell_type": "markdown",
   "metadata": {},
   "source": [
    "**Multi-line strings**"
   ]
  },
  {
   "cell_type": "markdown",
   "metadata": {},
   "source": [
    "*>>> Using backticks (ES6)*"
   ]
  },
  {
   "cell_type": "code",
   "execution_count": null,
   "metadata": {},
   "outputs": [],
   "source": [
    "// In ES6, the backticks `` allow you to spread a string across multiple lines, \n",
    "// and all the white space is included in the string\n",
    "\n",
    "console.log(`Three blind mice\n",
    "    see how they run!`);"
   ]
  },
  {
   "cell_type": "markdown",
   "metadata": {},
   "source": [
    "*>>> Using \\ at the end of the line*"
   ]
  },
  {
   "cell_type": "code",
   "execution_count": null,
   "metadata": {},
   "outputs": [],
   "source": [
    "// If you use single or double quotes, you can use the backslash to spread a\n",
    "// string across multiple lines, and line breaks are ignored (but not char space).\n",
    "\n",
    "var str = 'Three blind mice \\\n",
    "           see how they run!';\n",
    "console.log(str);"
   ]
  },
  {
   "cell_type": "markdown",
   "metadata": {},
   "source": [
    "### 2. Functions<a name='2'></a>"
   ]
  },
  {
   "cell_type": "markdown",
   "metadata": {},
   "source": [
    "| FUNCTION | USAGE | RETURNS | |\n",
    "| :--- | :--- | :--- | :--- |\n",
    "| | | (NO MATCH) | (MATCH) |\n",
    "| **.match()** | `str`**.match**(`regex`) | null | array: [first match, index of match, input string] |\n",
    "| | with flag 'g' | null | array: of all the matches only (no indexes or input string) |\n",
    "| **.exec()** | `regex`**.exec**(`string`) | null | array: [match, index of match, input string] |\n",
    "| **.search()** | `str`**.search**(`regex`) | -1 | index of the first match |\n",
    "| **.replace()** | `str`**.replace**(`regex`, `replacement`) | new string with replacement(s) |\n",
    "| **.test()** | `regex`**.test**(`string`) | false | true |"
   ]
  },
  {
   "cell_type": "markdown",
   "metadata": {},
   "source": [
    "#### .match()"
   ]
  },
  {
   "cell_type": "code",
   "execution_count": null,
   "metadata": {},
   "outputs": [],
   "source": [
    "'abcda'.match(/a/); // one match returns extra info on the match"
   ]
  },
  {
   "cell_type": "code",
   "execution_count": null,
   "metadata": {},
   "outputs": [],
   "source": [
    "'abcda'.match(/a/g); // more than one match returns just the matches"
   ]
  },
  {
   "cell_type": "code",
   "execution_count": null,
   "metadata": {},
   "outputs": [],
   "source": [
    "'abcda'.match(/z/); // no match returns null"
   ]
  },
  {
   "cell_type": "markdown",
   "metadata": {},
   "source": [
    "#### .exec()"
   ]
  },
  {
   "cell_type": "code",
   "execution_count": null,
   "metadata": {},
   "outputs": [],
   "source": [
    "// without flag g, functions just like .match()\n",
    "REGEX = /a/; \n",
    "REGEX.exec('abcda');"
   ]
  },
  {
   "cell_type": "code",
   "execution_count": null,
   "metadata": {},
   "outputs": [],
   "source": [
    "REGEX.exec('wxyzw');"
   ]
  },
  {
   "cell_type": "code",
   "execution_count": null,
   "metadata": {},
   "outputs": [],
   "source": [
    "// with flag, each call stops immediately after a match\n",
    "//      so it can be called as many times as there are matches, until the end of the string is reached\n",
    "REGEX = /a/g;\n",
    "REGEX.exec('abcda'); "
   ]
  },
  {
   "cell_type": "code",
   "execution_count": null,
   "metadata": {},
   "outputs": [],
   "source": [
    "REGEX.exec('abcda');"
   ]
  },
  {
   "cell_type": "code",
   "execution_count": null,
   "metadata": {},
   "outputs": [],
   "source": [
    "REGEX.exec('abcda');"
   ]
  },
  {
   "cell_type": "markdown",
   "metadata": {},
   "source": [
    "#### .search()"
   ]
  },
  {
   "cell_type": "code",
   "execution_count": null,
   "metadata": {},
   "outputs": [],
   "source": [
    "'abcda'.search(/d/); // returns index of first match"
   ]
  },
  {
   "cell_type": "code",
   "execution_count": null,
   "metadata": {},
   "outputs": [],
   "source": [
    "'abcda'.search(/z/); // returns -1 if no match"
   ]
  },
  {
   "cell_type": "markdown",
   "metadata": {},
   "source": [
    "#### .replace()"
   ]
  },
  {
   "cell_type": "code",
   "execution_count": null,
   "metadata": {},
   "outputs": [],
   "source": [
    "'abcda'.replace(/a/, 'Z');"
   ]
  },
  {
   "cell_type": "markdown",
   "metadata": {},
   "source": [
    "#### .test()"
   ]
  },
  {
   "cell_type": "code",
   "execution_count": null,
   "metadata": {},
   "outputs": [],
   "source": [
    "/a/.test('abcda');"
   ]
  },
  {
   "cell_type": "code",
   "execution_count": null,
   "metadata": {},
   "outputs": [],
   "source": [
    "/z/.test('abcda');"
   ]
  },
  {
   "cell_type": "markdown",
   "metadata": {},
   "source": [
    "### 3. Flags <a name='3'></a>"
   ]
  },
  {
   "cell_type": "markdown",
   "metadata": {},
   "source": [
    "| FLAG | MEANING | FUNCTION |\n",
    "| :--- | :--- | :--- |\n",
    "| g | global | used with `.match()` and `.exec()`, finds all matches (not just the first) |\n",
    "| i | ignore case | does not distinguish lower and upper case |\n",
    "| m | multiline | tells `^` and `$` to treat `\\n` or `\\r` as boundaries (more later) |\n",
    "| u | unicode | treats the regex pattern as unicode (may need it when encountering encoding errors) |"
   ]
  },
  {
   "cell_type": "markdown",
   "metadata": {},
   "source": [
    "#### g -- global"
   ]
  },
  {
   "cell_type": "code",
   "execution_count": null,
   "metadata": {},
   "outputs": [],
   "source": [
    "'ABCDA'.match(/A/g);"
   ]
  },
  {
   "cell_type": "markdown",
   "metadata": {},
   "source": [
    "#### i = ignore case"
   ]
  },
  {
   "cell_type": "code",
   "execution_count": null,
   "metadata": {},
   "outputs": [],
   "source": [
    "'ABCDA'.search(/b/i);"
   ]
  },
  {
   "cell_type": "markdown",
   "metadata": {},
   "source": [
    "#### m - multi-line"
   ]
  },
  {
   "cell_type": "code",
   "execution_count": null,
   "metadata": {},
   "outputs": [],
   "source": [
    "'Dogs are funny.\\nDogs are hairy.'.match(/^D/gm);"
   ]
  },
  {
   "cell_type": "code",
   "execution_count": null,
   "metadata": {},
   "outputs": [],
   "source": [
    "'Dogs are funny.\\nDogs are hairy.'.match(/\\.$/gm);"
   ]
  },
  {
   "cell_type": "markdown",
   "metadata": {},
   "source": [
    "### 4. Character classes <a name='4'></a>"
   ]
  },
  {
   "cell_type": "markdown",
   "metadata": {},
   "source": [
    "| CHAR | DEFINITION | CHAR | DEFINITION |\n",
    "| :--- | :--- | :--- | :--- |\n",
    "| \\d | numerical [0-9] | \\D  | non-numerical [^0-9] |\n",
    "| \\w | word [A-Za-z0-9_]| \\W | non-word [^A-Za-z0-9_] |\n",
    "| \\s | white space | \\S | not white space |"
   ]
  },
  {
   "cell_type": "code",
   "execution_count": null,
   "metadata": {},
   "outputs": [],
   "source": [
    "'123'.search(/\\d/);"
   ]
  },
  {
   "cell_type": "code",
   "execution_count": null,
   "metadata": {},
   "outputs": [],
   "source": [
    "'123'.search(/\\D/);"
   ]
  },
  {
   "cell_type": "code",
   "execution_count": null,
   "metadata": {},
   "outputs": [],
   "source": [
    "'abc'.match(/\\w/g);"
   ]
  },
  {
   "cell_type": "code",
   "execution_count": null,
   "metadata": {},
   "outputs": [],
   "source": [
    "'abc'.match(/\\W/g);"
   ]
  },
  {
   "cell_type": "code",
   "execution_count": null,
   "metadata": {},
   "outputs": [],
   "source": [
    "'\\t\\r\\n'.replace(/\\s/g, 'Y');"
   ]
  },
  {
   "cell_type": "code",
   "execution_count": null,
   "metadata": {},
   "outputs": [],
   "source": [
    "/\\S/.test('\\t\\r\\n');"
   ]
  },
  {
   "cell_type": "markdown",
   "metadata": {},
   "source": [
    "### 5. Ranges <a name='5'></a>\n",
    "NOTE: All of the below match patterns of 1 character only"
   ]
  },
  {
   "cell_type": "markdown",
   "metadata": {},
   "source": [
    "`[]` -- range specification\n",
    "\n",
    "`[^ ]` -- range specification, excluding\n",
    "\n",
    "`.` -- everything except `\\n`\n",
    "\n",
    "`|` -- or"
   ]
  },
  {
   "cell_type": "markdown",
   "metadata": {},
   "source": [
    "#### [ ] and [^ ]"
   ]
  },
  {
   "cell_type": "code",
   "execution_count": null,
   "metadata": {},
   "outputs": [],
   "source": [
    "'I ain\\'t got no money, yo!'.match(/[',!]/g);"
   ]
  },
  {
   "cell_type": "code",
   "execution_count": null,
   "metadata": {},
   "outputs": [],
   "source": [
    "'I ain\\'t got no money, yo!'.match(/[^\\w]/g);"
   ]
  },
  {
   "cell_type": "code",
   "execution_count": null,
   "metadata": {},
   "outputs": [],
   "source": [
    "'I ain\\'t got no money, yo!'.replace(/[A-Za-z]/gi, '_');"
   ]
  },
  {
   "cell_type": "markdown",
   "metadata": {},
   "source": [
    "#### . (dot --> everything except \\n)"
   ]
  },
  {
   "cell_type": "code",
   "execution_count": null,
   "metadata": {},
   "outputs": [],
   "source": [
    "'.,>@5n'.match(/./g); // dot matches everything, except..."
   ]
  },
  {
   "cell_type": "code",
   "execution_count": null,
   "metadata": {},
   "outputs": [],
   "source": [
    "/./.test('\\n'); // newline"
   ]
  },
  {
   "cell_type": "code",
   "execution_count": null,
   "metadata": {},
   "outputs": [],
   "source": [
    "// So if you really want to include everything, use .|\\n\n",
    "'Line\\nLine'.match(/.|\\n/g);"
   ]
  },
  {
   "cell_type": "markdown",
   "metadata": {},
   "source": [
    "#### | (or)"
   ]
  },
  {
   "cell_type": "code",
   "execution_count": null,
   "metadata": {},
   "outputs": [],
   "source": [
    "// | -- or\n",
    "/da|bf/.test('daf');"
   ]
  },
  {
   "cell_type": "code",
   "execution_count": null,
   "metadata": {},
   "outputs": [],
   "source": [
    "/da|bf/.test('dzf');"
   ]
  },
  {
   "cell_type": "markdown",
   "metadata": {},
   "source": [
    "### 6. Groups <a name='6'></a>"
   ]
  },
  {
   "cell_type": "markdown",
   "metadata": {},
   "source": [
    "| REGEX | DESCRIPTION |\n",
    "| :--- | :--- |\n",
    "| ( ) | Capturing group |\n",
    "| (?: ) | Non-capturing group |\n",
    "| \\1 | Group reference within regex pattern |\n",
    "| **Referencing groups and matches in `.replace()`** |\n",
    "| \\$1 | insert captured group (\\$2 = 2nd captured group, \\$3 = 3rd, etc.) |\n",
    "| \\$\\` | insert string preceding (1st) captured group |\n",
    "| \\$' | insert string following (1st) captured group |\n",
    "| \\$& | insert entire match |"
   ]
  },
  {
   "cell_type": "markdown",
   "metadata": {},
   "source": [
    "#### ( ) -- capturing group"
   ]
  },
  {
   "cell_type": "code",
   "execution_count": null,
   "metadata": {},
   "outputs": [],
   "source": [
    "// What if you want to use the | over more than one char?\n",
    "// Use () to contain the multi-char alternatives\n",
    "'aaBBaaaaCCaa'.match(/aa(BB|CC)aa/g);"
   ]
  },
  {
   "cell_type": "code",
   "execution_count": null,
   "metadata": {},
   "outputs": [],
   "source": [
    "// The parentheses also has a \"grouping\" function (let's use .match() without the g flag)\n",
    "'aaBBaaaaCCaa'.match(/aa(BB|CC)aa/); // [ 'aaBBaa', 'BB', index: 0, input: 'aaBBaaaaCCaa' ]\n",
    "                                     // Notice the 'BB' captured by the ()"
   ]
  },
  {
   "cell_type": "code",
   "execution_count": null,
   "metadata": {},
   "outputs": [],
   "source": [
    "'aaBBaaaaCCaa'.match(/aa(BB|CC)aa/g); // .match() with g flag won't return the group captures"
   ]
  },
  {
   "cell_type": "code",
   "execution_count": null,
   "metadata": {},
   "outputs": [],
   "source": [
    "// But .exec() allows us get the group captures of all matches, using a loop\n",
    "REGEX = /aa(BB|CC)aa/g;\n",
    "str = 'aaBBaaaaCCaaaaBBaa';\n",
    "var myArray;\n",
    "while ((myArray = REGEX.exec(str)) !== null) {\n",
    "    console.log(myArray);\n",
    "}"
   ]
  },
  {
   "cell_type": "markdown",
   "metadata": {},
   "source": [
    "#### \\1, \\2, \\3... -- referencing group captures"
   ]
  },
  {
   "cell_type": "code",
   "execution_count": null,
   "metadata": {},
   "outputs": [],
   "source": [
    "// Grouping also allows reference back to the captured group\n",
    "'dada'.match(/(da)\\1/); // [ 'dada', 'da', index: 0, input: 'dada' ]"
   ]
  },
  {
   "cell_type": "code",
   "execution_count": null,
   "metadata": {},
   "outputs": [],
   "source": [
    "'data'.match(/(da)\\1/); // null"
   ]
  },
  {
   "cell_type": "code",
   "execution_count": null,
   "metadata": {},
   "outputs": [],
   "source": [
    "// NOTE: the reference is to what is captured, NOT the pattern itself!\n",
    "'datata'.match(/(da|ta)\\1/); // ['tata']"
   ]
  },
  {
   "cell_type": "code",
   "execution_count": null,
   "metadata": {},
   "outputs": [],
   "source": [
    "'datata'.match(/([dt]a)\\1/); // ['tata']"
   ]
  },
  {
   "cell_type": "code",
   "execution_count": null,
   "metadata": {},
   "outputs": [],
   "source": [
    "// You can have as many groups as you want\n",
    "'efghijefghij'.match(/(e)(f)(g)(h)(i)(j)\\1\\2\\3\\4\\5\\6/);"
   ]
  },
  {
   "cell_type": "code",
   "execution_count": null,
   "metadata": {},
   "outputs": [],
   "source": [
    "// The numbering depends on the order in which the ( appears\n",
    "//      For example, in the case of nested groups\n",
    "'tatatat'.match(/((t|d)a)\\1\\2/); // \\1 = 'ta', \\2 = 't'"
   ]
  },
  {
   "cell_type": "markdown",
   "metadata": {},
   "source": [
    "#### (?: ) -- non-capturing group"
   ]
  },
  {
   "cell_type": "code",
   "execution_count": null,
   "metadata": {},
   "outputs": [],
   "source": [
    "// If you don't want the parentheses to make a capture, use (?: )\n",
    "'aaCCaa'.match(/aa(?:BB|CC)aa/);"
   ]
  },
  {
   "cell_type": "markdown",
   "metadata": {},
   "source": [
    "#### Referencing groups and matches in `.replace()`"
   ]
  },
  {
   "cell_type": "markdown",
   "metadata": {},
   "source": [
    "*>>> Referencing by group order*"
   ]
  },
  {
   "cell_type": "code",
   "execution_count": null,
   "metadata": {},
   "outputs": [],
   "source": [
    "// Use $1, $2, etc. if you want to reference a captured group in the replacement string in .replace(), \n",
    "'HyperText Markup Language'.replace(/([a-z])([A-Z])/, '$1 $2');"
   ]
  },
  {
   "cell_type": "markdown",
   "metadata": {},
   "source": [
    "*>>> String before match pattern*"
   ]
  },
  {
   "cell_type": "code",
   "execution_count": null,
   "metadata": {},
   "outputs": [],
   "source": [
    "// Use $` (dollar sign + backtick) to get string BEFORE match pattern\n",
    "'hyperTEXT MARKUP'.replace(/[A-Z]/, '$`'); // matched pattern = 'T' (index 5)"
   ]
  },
  {
   "cell_type": "code",
   "execution_count": null,
   "metadata": {},
   "outputs": [],
   "source": [
    "'hyperTEXT MARKUP'.replace(/[A-Z]/, '<$`>'); // better visualization"
   ]
  },
  {
   "cell_type": "markdown",
   "metadata": {},
   "source": [
    "*>>> String after match pattern*"
   ]
  },
  {
   "cell_type": "code",
   "execution_count": null,
   "metadata": {},
   "outputs": [],
   "source": [
    "// Use $' (dollar sign + single quote) to get string AFTER matched pattern\n",
    "'hyperTEXT MARKUP'.replace(/[A-Z]/, \"$'\");"
   ]
  },
  {
   "cell_type": "code",
   "execution_count": null,
   "metadata": {},
   "outputs": [],
   "source": [
    "'hyperTEXT MARKUP'.replace(/[A-Z]/, \"<$'>\"); // better visualization\n",
    "\n",
    "// Escape the single quote if inside single quotes:\n",
    "'hyperTEXT MARKUP'.replace(/[A-Z]/, '<$\\'>');"
   ]
  },
  {
   "cell_type": "markdown",
   "metadata": {},
   "source": [
    "*>>> Entire match*"
   ]
  },
  {
   "cell_type": "code",
   "execution_count": null,
   "metadata": {},
   "outputs": [],
   "source": [
    "// To get the entire matched pattern, use $&\n",
    "'hyperTEXT MARKUP'.replace(/[A-Z]/, '$&$&$&$&$&');"
   ]
  },
  {
   "cell_type": "code",
   "execution_count": null,
   "metadata": {},
   "outputs": [],
   "source": [
    "'hyperTEXT MARKUP'.replace(/[A-Z]/, '<$&$&$&$&$&>'); // better visualization"
   ]
  },
  {
   "cell_type": "markdown",
   "metadata": {},
   "source": [
    "### 7. Quantifiers <a name='7'></a>\n",
    "Quantifiers are placed immediately AFTER the char they quantify"
   ]
  },
  {
   "cell_type": "markdown",
   "metadata": {},
   "source": [
    "| REGEX | DESCRIPTION |\n",
    "| :--- | :--- |\n",
    "| ? | appears 0 or 1 time |\n",
    "| \\* | appears 0 or any number of times |\n",
    "| + | appears 1 or more times |\n",
    "| \\*? | non-greedy \\* |\n",
    "| +? | non-greedy \\+ |\n",
    "||\n",
    "| {2} | appears 2 times |\n",
    "| {3,5} | appears 3-5 times |\n",
    "| (4,) | appears at least 4 times |"
   ]
  },
  {
   "cell_type": "markdown",
   "metadata": {},
   "source": [
    "### ? --> 0 or 1 time"
   ]
  },
  {
   "cell_type": "code",
   "execution_count": null,
   "metadata": {},
   "outputs": [],
   "source": [
    "// Optional parentheses for country code in phone numbers\n",
    "'852 2345 6789'.search(/^\\(?852\\)?/);"
   ]
  },
  {
   "cell_type": "code",
   "execution_count": null,
   "metadata": {},
   "outputs": [],
   "source": [
    "'(852) 2345 6789'.search(/^\\(?852\\)?/);"
   ]
  },
  {
   "cell_type": "markdown",
   "metadata": {},
   "source": [
    "#### * --> 0, 1, or many times"
   ]
  },
  {
   "cell_type": "code",
   "execution_count": null,
   "metadata": {},
   "outputs": [],
   "source": [
    "// Get all words with \"watch\" followed by any number of letters\n",
    "'watch, watchy, watched, watching'.match(/watch[a-z]*/g);"
   ]
  },
  {
   "cell_type": "markdown",
   "metadata": {},
   "source": [
    "#### + --> 1 or more times"
   ]
  },
  {
   "cell_type": "code",
   "execution_count": null,
   "metadata": {},
   "outputs": [],
   "source": [
    "// + --> appears 1 or more times\n",
    "// Get all continuous \"word\" strings\n",
    "\"My name is R2D2. I'm a robot.\".match(/[\\w]+/g);"
   ]
  },
  {
   "cell_type": "markdown",
   "metadata": {},
   "source": [
    "#### Non-greedy ? (placed after + or \\*)\n",
    "- \\* and + are by default \"greedy\"\n",
    "- That means it will search until the very last instance of the char pattern after * or +, and return everything in between"
   ]
  },
  {
   "cell_type": "code",
   "execution_count": null,
   "metadata": {},
   "outputs": [],
   "source": [
    "\"My name is R2D2. I'm a robot.\".match(/^.+\\./g); // bad attempt at getting only one sentence"
   ]
  },
  {
   "cell_type": "code",
   "execution_count": null,
   "metadata": {},
   "outputs": [],
   "source": [
    "\"My name is R2D2. I'm a robot.\".match(/^.+?\\./g); // non-greedy ? to the rescue"
   ]
  },
  {
   "cell_type": "code",
   "execution_count": null,
   "metadata": {},
   "outputs": [],
   "source": [
    "// Another example\n",
    "\n",
    "var htmlStr = '<div class=\"container\">Container</div>  <div class=\"jumbotron\">Header</div>';\n",
    "htmlStr.match(/<div class=\"container\">.+<\\/div>/g); // bad attempt at getting the container div"
   ]
  },
  {
   "cell_type": "code",
   "execution_count": null,
   "metadata": {},
   "outputs": [],
   "source": [
    "htmlStr.match(/<div class=\"container\">.+?<\\/div>/g); // non-greedy ? to the rescue"
   ]
  },
  {
   "cell_type": "markdown",
   "metadata": {},
   "source": [
    "**NOTE** \n",
    "- The above doesn't take care of nested tags, and nested things are not straighforward to do in regex.\n",
    "- **Use an HTLM / XML / etc. parser instead!**"
   ]
  },
  {
   "cell_type": "markdown",
   "metadata": {},
   "source": [
    "#### { } --> exact (and greedy) quantification"
   ]
  },
  {
   "cell_type": "code",
   "execution_count": null,
   "metadata": {},
   "outputs": [],
   "source": [
    "'The flower bloomed in the voracious wind.'.match(/\\w{4}/g); // 4-letter strings"
   ]
  },
  {
   "cell_type": "code",
   "execution_count": null,
   "metadata": {},
   "outputs": [],
   "source": [
    "'The flower bloomed in the voracious wind.'.match(/\\w{4,6}/g); // 4-6 letters"
   ]
  },
  {
   "cell_type": "code",
   "execution_count": null,
   "metadata": {},
   "outputs": [],
   "source": [
    "'The flower bloomed in the voracious wind.'.match(/\\w{4,}/g); // 4 or more letters"
   ]
  },
  {
   "cell_type": "markdown",
   "metadata": {},
   "source": [
    "### 8. Anchors <a name='8'></a>\n",
    "\n",
    "**NOTE**: These DON'T represent actual characters"
   ]
  },
  {
   "cell_type": "markdown",
   "metadata": {},
   "source": [
    "| REGEX | DESCRIPTION | |\n",
    "| :-- | :-- | :-- |\n",
    "| | WITHOUT FLAG 'm' | WITH FLAG 'm' |\n",
    "| ^ | start of the string | start of a string or line (bounded by \\n or \\r) |\n",
    "| \\$ | end of the line | end of a string or line (bounded by \\n or \\r) |\n",
    "\n",
    "| REGEX | DESCRIPTION |\n",
    "| :-- | :-- |\n",
    "|| NOT AFFECTED BY FLAG 'm' |\n",
    "| \\b | word boundary (edges of continuous \\w strings, i.e. [A-Za-z0-9_]) |"
   ]
  },
  {
   "cell_type": "markdown",
   "metadata": {},
   "source": [
    "#### ^ --> start of the string(/line)"
   ]
  },
  {
   "cell_type": "code",
   "execution_count": null,
   "metadata": {},
   "outputs": [],
   "source": [
    "\"There's a rainbow here.\\nThere's a rainbow there.\".match(/^There's/g);"
   ]
  },
  {
   "cell_type": "code",
   "execution_count": null,
   "metadata": {},
   "outputs": [],
   "source": [
    "\"There's a rainbow here.\\nThere's a rainbow there.\".match(/^There's/gm); // m flag"
   ]
  },
  {
   "cell_type": "markdown",
   "metadata": {},
   "source": [
    "#### $ --> end of the string(/line)"
   ]
  },
  {
   "cell_type": "code",
   "execution_count": null,
   "metadata": {},
   "outputs": [],
   "source": [
    "\"There's a rainbow here.\\nThere's a rainbow there.\".match(/t?here\\.$/g);"
   ]
  },
  {
   "cell_type": "code",
   "execution_count": null,
   "metadata": {},
   "outputs": [],
   "source": [
    "\"There's a rainbow here.\\nThere's a rainbow there.\".match(/t?here\\.$/gm); // m "
   ]
  },
  {
   "cell_type": "markdown",
   "metadata": {},
   "source": [
    "#### \\b --> word boundary"
   ]
  },
  {
   "cell_type": "code",
   "execution_count": null,
   "metadata": {
    "collapsed": true
   },
   "outputs": [],
   "source": [
    "\"My name is R2D2. I'm a robot.\".match(/\\b.+?\\b/g);"
   ]
  },
  {
   "cell_type": "code",
   "execution_count": null,
   "metadata": {},
   "outputs": [],
   "source": [
    "\"My name is R2D2. I'm a robot.\".match(/\\b\\w+?\\b/g); // just the \"words\""
   ]
  },
  {
   "cell_type": "markdown",
   "metadata": {},
   "source": [
    "### 9. Assertions <a name='9'></a>\n",
    "\n",
    "These allow you look at the following context of your regex pattern without including that context in your match."
   ]
  },
  {
   "cell_type": "markdown",
   "metadata": {},
   "source": [
    "| REGEX | DESCRIPTION |\n",
    "| :-- | :-- |\n",
    "| (?= ) | positive lookahead |\n",
    "| (?! ) | negative lookahead |"
   ]
  },
  {
   "cell_type": "markdown",
   "metadata": {},
   "source": [
    "#### (?= ) -- > positive lookahead"
   ]
  },
  {
   "cell_type": "code",
   "execution_count": null,
   "metadata": {},
   "outputs": [],
   "source": [
    "'aaBBaaCCaa'.match(/aa(BB|CC)(?=aa)/g);"
   ]
  },
  {
   "cell_type": "code",
   "execution_count": null,
   "metadata": {},
   "outputs": [],
   "source": [
    "// Although assertions make use of parentheses, they DON'T trigger grouping\n",
    "'aaBBaa'.match(/aaBB(?=aa)/);"
   ]
  },
  {
   "cell_type": "markdown",
   "metadata": {},
   "source": [
    "#### (?! ) --> Negative lookahead"
   ]
  },
  {
   "cell_type": "code",
   "execution_count": null,
   "metadata": {},
   "outputs": [],
   "source": [
    "'aaBBaaaaBB--'.match(/aaBB(?!aa)/);"
   ]
  },
  {
   "cell_type": "markdown",
   "metadata": {},
   "source": [
    "**Why use assertions?**\n",
    "1. You don't want the match to contain the string inside the assertion\n",
    "2. You want to get overlapping matches (normally you can't)"
   ]
  },
  {
   "cell_type": "code",
   "execution_count": null,
   "metadata": {},
   "outputs": [],
   "source": [
    "// Normally, in a global search, once there is a match, that match is not searched again\n",
    "'aaBBaaBBaa'.match(/aaBBaa/g);\n",
    "\n",
    "/*  What happens step by step:\n",
    "\n",
    "    1. 'aaBBaaBBaa' --> MATCH 'aaBBaa', REMAINING SEARCH POOL '______BBaa'\n",
    "    2. '______BBaa' --> NO MATCH\n",
    "    3. END SEARCH, RETURN ['aaBBaa']\n",
    "*/"
   ]
  },
  {
   "cell_type": "code",
   "execution_count": null,
   "metadata": {},
   "outputs": [],
   "source": [
    "// With a lookahead assertion, the \"asserted string\" stays in the search pool\n",
    "'aaBBaaBBaa'.match(/aaBB(?=aa)/g);\n",
    "\n",
    "/*  What happens step by step:\n",
    "    1. 'aaBBaaBBaa' --> MATCH 'aaBB', REMAINING SEARCH POOL '____aaBBaa'\n",
    "    2. '____aaBBaa' --> MATCH 'aaBB', REMAINING SEARCH POOL '________aa'\n",
    "    3. '________aa' --> NO MATCH\n",
    "    4. END SEARCH, RETURN ['aabb', 'aabb']\n",
    "*/"
   ]
  },
  {
   "cell_type": "markdown",
   "metadata": {},
   "source": [
    "**Unfortunately, JS doesn't have lookbehind because they forgot about it!**\n",
    "- As of ES8, it is still not available yet.\n",
    "- Some people have figured out some workarounds, but they can get very complicated."
   ]
  },
  {
   "cell_type": "markdown",
   "metadata": {},
   "source": [
    "### 10. Reference and tools <a name='10'></a>"
   ]
  },
  {
   "cell_type": "markdown",
   "metadata": {},
   "source": [
    "- MDN documentation: https://developer.mozilla.org/en/docs/Web/JavaScript/Guide/Regular_Expressions\n",
    "- Javascript regex cheatsheet: https://www.debuggex.com/cheatsheet/regex/javascript\n",
    "- Regex tool 1: http://regexr.com/\n",
    "- Regex tool 2: https://regex101.com/\n",
    "- Atom regex helper: `regex-railroad-diagram`\n",
    "\n",
    "**NOTE:** Different programming languages have different implementations of regular expressions / pattern matching functions, although the basics are usually the same.\n",
    "\n",
    "- PostgreSQL: https://www.postgresql.org/docs/9.6/static/functions-matching.html\n",
    "- Python: https://docs.python.org/3/library/re.html\n",
    "\n",
    "**NOTE:** Many text editing software have some implementation of regular expressions also\n",
    "- In `Atom`, COMMAND/CTRL + F, then click on the button [ .\\* ] to enable/disable regex"
   ]
  },
  {
   "cell_type": "code",
   "execution_count": null,
   "metadata": {
    "collapsed": true
   },
   "outputs": [],
   "source": []
  }
 ],
 "metadata": {
  "kernelspec": {
   "display_name": "Javascript (Node.js)",
   "language": "javascript",
   "name": "javascript"
  },
  "language_info": {
   "file_extension": ".js",
   "mimetype": "application/javascript",
   "name": "javascript",
   "version": "6.10.3"
  }
 },
 "nbformat": 4,
 "nbformat_minor": 2
}
